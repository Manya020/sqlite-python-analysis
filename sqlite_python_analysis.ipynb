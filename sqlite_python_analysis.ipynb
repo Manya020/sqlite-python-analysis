{
 "cells": [
  {
   "cell_type": "code",
   "execution_count": 2,
   "id": "3548f9ba",
   "metadata": {},
   "outputs": [],
   "source": [
    "import sqlite3"
   ]
  },
  {
   "cell_type": "code",
   "execution_count": 3,
   "id": "b34c529b",
   "metadata": {},
   "outputs": [],
   "source": [
    "import pandas as pd\n",
    "import matplotlib.pyplot as plt"
   ]
  },
  {
   "cell_type": "code",
   "execution_count": null,
   "id": "2db3c866",
   "metadata": {},
   "outputs": [],
   "source": [
    "# Step-1: Connect to SQLite database\n",
    "conn = sqlite3.connect(\"sales_data.db\")\n",
    "cursor = conn.cursor()"
   ]
  },
  {
   "cell_type": "code",
   "execution_count": null,
   "id": "e92e9734",
   "metadata": {},
   "outputs": [
    {
     "data": {
      "text/plain": [
       "<sqlite3.Cursor at 0x1429d541640>"
      ]
     },
     "execution_count": 5,
     "metadata": {},
     "output_type": "execute_result"
    }
   ],
   "source": [
    "# Step-2: Create table\n",
    "cursor.execute(\"\"\"\n",
    "CREATE TABLE IF NOT EXISTS sales (\n",
    "    id INTEGER PRIMARY KEY AUTOINCREMENT,\n",
    "    product TEXT,\n",
    "    quantity INTEGER,\n",
    "    price REAL\n",
    ")\n",
    "\"\"\")"
   ]
  },
  {
   "cell_type": "code",
   "execution_count": null,
   "id": "6a8dc2f5",
   "metadata": {},
   "outputs": [],
   "source": [
    "# Step 3: Insert sample data\n",
    "sample_data = [\n",
    "    (\"Apple\", 10, 2.5),\n",
    "    ('Banana',20,1.5),\n",
    "    ('Orange',15,3.0),\n",
    "    ('Apple',5,2.5),\n",
    "    ('Banana',10,1.5)\n",
    "]\n",
    "cursor.executemany(\"INSERT INTO sales(product, quantity,price)VALUES(?,?,?)\",sample_data)\n",
    "conn.commit()"
   ]
  },
  {
   "cell_type": "code",
   "execution_count": null,
   "id": "d552dcb3",
   "metadata": {},
   "outputs": [],
   "source": [
    "# Step-4: Run SQL query\n",
    "query = \"\"\"\n",
    "SELECT\n",
    "    product,\n",
    "    SUM(quantity) AS total_qty,\n",
    "    SUM(quantity * price) AS revenue\n",
    "FROM sales\n",
    "Group by product\n",
    "\"\"\"\n",
    "df = pd.read_sql_query(query,conn)"
   ]
  },
  {
   "cell_type": "code",
   "execution_count": null,
   "id": "2604cd1e",
   "metadata": {},
   "outputs": [
    {
     "name": "stdout",
     "output_type": "stream",
     "text": [
      "Sales Summary:\n",
      "  product  total_qty  revenue\n",
      "0   Apple         30     75.0\n",
      "1  Banana         60     90.0\n",
      "2  Orange         30     90.0\n"
     ]
    }
   ],
   "source": [
    "# Step-5: Print results\n",
    "print(\"Sales Summary:\")\n",
    "print(df)"
   ]
  },
  {
   "cell_type": "code",
   "execution_count": null,
   "id": "20102bda",
   "metadata": {},
   "outputs": [
    {
     "data": {
      "image/png": "[encoded data removed]",
      "text/plain": [
       "<Figure size 640x480 with 1 Axes>"
      ]
     },
     "metadata": {},
     "output_type": "display_data"
    }
   ],
   "source": [
    "# Step-6: Plot bar chart\n",
    "df.plot(kind=\"bar\", x=\"product\", y=\"revenue\", legend= False)\n",
    "plt.title(\"Revenue by product\")\n",
    "plt.ylabel(\"Revenue\")\n",
    "plt.xlabel(\"Product\")\n",
    "plt.xticks(rotation=0)\n",
    "plt.tight_layout()\n",
    "plt.savefig(\"sales_chart.png\")\n",
    "plt.show()\n",
    "\n",
    "\n",
    "conn.close()"
   ]
  },
  {
   "cell_type": "code",
   "execution_count": null,
   "id": "b2a2d465",
   "metadata": {},
   "outputs": [],
   "source": []
  }
 ],
 "metadata": {
  "kernelspec": {
   "display_name": "Python 3",
   "language": "python",
   "name": "python3"
  },
  "language_info": {
   "codemirror_mode": {
    "name": "ipython",
    "version": 3
   },
   "file_extension": ".py",
   "mimetype": "text/x-python",
   "name": "python",
   "nbconvert_exporter": "python",
   "pygments_lexer": "ipython3",
   "version": "3.13.0"
  }
 },
 "nbformat": 4,
 "nbformat_minor": 5
}
